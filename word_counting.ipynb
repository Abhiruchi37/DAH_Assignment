{
  "nbformat": 4,
  "nbformat_minor": 0,
  "metadata": {
    "colab": {
      "provenance": [],
      "authorship_tag": "ABX9TyOqaKxE7IoxdWJkMfBn5TBU",
      "include_colab_link": true
    },
    "kernelspec": {
      "name": "python3",
      "display_name": "Python 3"
    },
    "language_info": {
      "name": "python"
    }
  },
  "cells": [
    {
      "cell_type": "markdown",
      "metadata": {
        "id": "view-in-github",
        "colab_type": "text"
      },
      "source": [
        "<a href=\"https://colab.research.google.com/github/Abhiruchi37/DAH_Assignment/blob/main/word_counting.ipynb\" target=\"_parent\"><img src=\"https://colab.research.google.com/assets/colab-badge.svg\" alt=\"Open In Colab\"/></a>"
      ]
    },
    {
      "cell_type": "code",
      "source": [
        "import threading   \n",
        "# Define the mapper function\n",
        "def mapper(words):\n",
        "    word_count = {}\n",
        "    for word in words:\n",
        "        if word in word_count:\n",
        "            word_count[word] += 1\n",
        "        else:\n",
        "            word_count[word] = 1\n",
        "    return word_count.items()\n",
        "# Define the reducer function\n",
        "def reducer(word, counts):\n",
        "    return (word, sum(counts))\n",
        "# Define the MapReduce function\n",
        "def map_reduce(words):\n",
        "    # Split the input text into individual words\n",
        "    words = words.split()\n",
        "    # Map the words to key-value pairs\n",
        "    mapped_pairs = []\n",
        "    for pair in mapper(words):\n",
        "        mapped_pairs.append(pair)\n",
        "    # Shuffle the intermediate key-value pairs\n",
        "    shuffled_pairs = {}\n",
        "    for pair in mapped_pairs:\n",
        "        if pair[0] in shuffled_pairs:\n",
        "            shuffled_pairs[pair[0]].append(pair[1])\n",
        "        else:\n",
        "            shuffled_pairs[pair[0]] = [pair[1]]\n",
        "    # Reduce the shuffled key-value pairs\n",
        "    reduced_pairs = []\n",
        "    for key, value in shuffled_pairs.items():\n",
        "        reduced_pairs.append(reducer(key, value))\n",
        "    return reduced_pairs\n",
        "# Define the main function to test the MapReduce function\n",
        "def main():\n",
        "    # Read the input text from file\n",
        "    with open('input.txt', 'r') as f:\n",
        "        words = f.read()\n",
        "    # Call the MapReduce function\n",
        "    result = map_reduce(words)\n",
        "    # Print the output\n",
        "    for pair in result:\n",
        "        print(pair)\n",
        "if __name__ == '__main__':\n",
        "    main()"
      ],
      "metadata": {
        "colab": {
          "base_uri": "https://localhost:8080/"
        },
        "id": "SegZz5Ioqwd_",
        "outputId": "aa6cf176-c575-4464-dedf-5fb4c9dc77b3"
      },
      "execution_count": 40,
      "outputs": [
        {
          "output_type": "stream",
          "name": "stdout",
          "text": [
            "('Mango', 2)\n",
            "('is', 2)\n",
            "('a', 1)\n",
            "('fruit', 1)\n",
            "('.', 2)\n",
            "('yellow', 1)\n",
            "('in', 1)\n",
            "('colour', 1)\n"
          ]
        }
      ]
    },
    {
      "cell_type": "code",
      "execution_count": 41,
      "metadata": {
        "colab": {
          "base_uri": "https://localhost:8080/"
        },
        "id": "mZ0BkbwuJ_4y",
        "outputId": "a0baf909-3623-4f77-b27e-e5d38eda34bd"
      },
      "outputs": [
        {
          "output_type": "stream",
          "name": "stdout",
          "text": [
            "('M', 2)\n",
            "('a', 3)\n",
            "('n', 3)\n",
            "('g', 2)\n",
            "('o', 5)\n",
            "(' ', 9)\n",
            "('i', 4)\n",
            "('s', 2)\n",
            "('f', 1)\n",
            "('r', 2)\n",
            "('u', 2)\n",
            "('t', 1)\n",
            "('.', 2)\n",
            "('\\n', 1)\n",
            "('y', 1)\n",
            "('e', 1)\n",
            "('l', 3)\n",
            "('w', 1)\n",
            "('c', 1)\n"
          ]
        }
      ],
      "source": [
        "import threading   \n",
        "# Define the mapper function\n",
        "def mapper(words):\n",
        "    word_count = {}\n",
        "    for word in words:\n",
        "        if word in word_count:\n",
        "            word_count[word] += 1\n",
        "        else:\n",
        "            word_count[word] = 1\n",
        "    return word_count.items()\n",
        "\n",
        "# Define the main function to test the MapReduce function\n",
        "def main():\n",
        "    # Read the input text from file\n",
        "    with open('input.txt', 'r') as f:\n",
        "        words = f.read()\n",
        "    # Call the Mapper function\n",
        "    result = mapper(words)\n",
        "    # Print the output\n",
        "    for pair in result:\n",
        "        print(pair)\n",
        "if __name__ == '__main__':\n",
        "    main()"
      ]
    },
    {
      "cell_type": "code",
      "source": [
        "#Splitting words\n",
        "# Define the MapReduce function\n",
        "def map_reduce(words):\n",
        "    # Split the input text into individual words\n",
        "    words = words.split()\n",
        "    print(words)\n",
        "# Define the main function to test the MapReduce function\n",
        "def main():\n",
        "    # Read the input text from file\n",
        "    with open('input.txt', 'r') as f:\n",
        "        words = f.read()\n",
        "    # Call the MapReduce function\n",
        "    result = map_reduce(words)\n",
        "    \n",
        "if __name__ == '__main__':\n",
        "    main()"
      ],
      "metadata": {
        "colab": {
          "base_uri": "https://localhost:8080/"
        },
        "id": "Z2BHeWSQm-vL",
        "outputId": "b22cd5b6-d5af-4f4c-bc92-356d5514db70"
      },
      "execution_count": 42,
      "outputs": [
        {
          "output_type": "stream",
          "name": "stdout",
          "text": [
            "['Mango', 'is', 'a', 'fruit', '.', 'Mango', 'is', 'yellow', 'in', 'colour', '.']\n"
          ]
        }
      ]
    },
    {
      "cell_type": "code",
      "source": [
        "#mapping words to eky-value pairs\n",
        "# Define the MapReduce function\n",
        "def map_reduce(words):\n",
        "    # Split the input text into individual words\n",
        "    words = words.split()\n",
        "    # Map the words to key-value pairs\n",
        "    mapped_pairs = []\n",
        "    for pair in mapper(words):\n",
        "        mapped_pairs.append(pair)\n",
        "    print(mapped_pairs)\n",
        "# Define the main function to test the MapReduce function\n",
        "def main():\n",
        "    # Read the input text from file\n",
        "    with open('input.txt', 'r') as f:\n",
        "        words = f.read()\n",
        "    # Call the MapReduce function\n",
        "    result = map_reduce(words)\n",
        "    \n",
        "if __name__ == '__main__':\n",
        "    main()\n",
        "  "
      ],
      "metadata": {
        "colab": {
          "base_uri": "https://localhost:8080/"
        },
        "id": "tcX5lrQUm_UP",
        "outputId": "3ec0e3ab-9d83-4cf4-8920-222445dc1d71"
      },
      "execution_count": 43,
      "outputs": [
        {
          "output_type": "stream",
          "name": "stdout",
          "text": [
            "[('Mango', 2), ('is', 2), ('a', 1), ('fruit', 1), ('.', 2), ('yellow', 1), ('in', 1), ('colour', 1)]\n"
          ]
        }
      ]
    },
    {
      "cell_type": "code",
      "source": [
        "#shuffling key value pairs\n",
        "# Define the MapReduce function\n",
        "def map_reduce(words):\n",
        "    # Split the input text into individual words\n",
        "    words = words.split()\n",
        "    # Map the words to key-value pairs\n",
        "    mapped_pairs = []\n",
        "    for pair in mapper(words):\n",
        "        mapped_pairs.append(pair)\n",
        "    # Shuffle the intermediate key-value pairs\n",
        "    shuffled_pairs = {}\n",
        "    for pair in mapped_pairs:\n",
        "        if pair[0] in shuffled_pairs:\n",
        "            shuffled_pairs[pair[0]].append(pair[1])\n",
        "        else:\n",
        "            shuffled_pairs[pair[0]] = [pair[1]]\n",
        "    print(shuffled_pairs)\n",
        "# Define the main function to test the MapReduce function\n",
        "def main():\n",
        "    # Read the input text from file\n",
        "    with open('input.txt', 'r') as f:\n",
        "        words = f.read()\n",
        "    # Call the MapReduce function\n",
        "    result = map_reduce(words)\n",
        "    \n",
        "if __name__ == '__main__':\n",
        "    main()"
      ],
      "metadata": {
        "colab": {
          "base_uri": "https://localhost:8080/"
        },
        "id": "DhC48PyZoc1P",
        "outputId": "bb208d4e-4ae4-436c-8514-657570c9114c"
      },
      "execution_count": 44,
      "outputs": [
        {
          "output_type": "stream",
          "name": "stdout",
          "text": [
            "{'Mango': [2], 'is': [2], 'a': [1], 'fruit': [1], '.': [2], 'yellow': [1], 'in': [1], 'colour': [1]}\n"
          ]
        }
      ]
    },
    {
      "cell_type": "code",
      "source": [
        "#reduce shuffle key value pairs\n",
        "# Define the reducer function\n",
        "def reducer(word, counts):\n",
        "    return (word, sum(counts))\n",
        "# Define the MapReduce function\n",
        "def map_reduce(words):\n",
        "    # Split the input text into individual words\n",
        "    words = words.split()\n",
        "    # Map the words to key-value pairs\n",
        "    mapped_pairs = []\n",
        "    for pair in mapper(words):\n",
        "        mapped_pairs.append(pair)\n",
        "    # Shuffle the intermediate key-value pairs\n",
        "    shuffled_pairs = {}\n",
        "    for pair in mapped_pairs:\n",
        "        if pair[0] in shuffled_pairs:\n",
        "            shuffled_pairs[pair[0]].append(pair[1])\n",
        "        else:\n",
        "            shuffled_pairs[pair[0]] = [pair[1]]\n",
        "    # Reduce the shuffled key-value pairs\n",
        "    reduced_pairs = []\n",
        "    for key, value in shuffled_pairs.items():\n",
        "        reduced_pairs.append(reducer(key, value))\n",
        "    print(reduced_pairs)\n",
        "\n",
        "# Define the main function to test the MapReduce function\n",
        "def main():\n",
        "    # Read the input text from file\n",
        "    with open('input.txt', 'r') as f:\n",
        "        words = f.read()\n",
        "    # Call the MapReduce function\n",
        "    result = map_reduce(words)\n",
        "\n",
        "    \n",
        "if __name__ == '__main__':\n",
        "    main()"
      ],
      "metadata": {
        "colab": {
          "base_uri": "https://localhost:8080/"
        },
        "id": "uSmidnETo22n",
        "outputId": "285924ef-a89f-4ae6-d215-54f721000e15"
      },
      "execution_count": 45,
      "outputs": [
        {
          "output_type": "stream",
          "name": "stdout",
          "text": [
            "[('Mango', 2), ('is', 2), ('a', 1), ('fruit', 1), ('.', 2), ('yellow', 1), ('in', 1), ('colour', 1)]\n"
          ]
        }
      ]
    }
  ]
}